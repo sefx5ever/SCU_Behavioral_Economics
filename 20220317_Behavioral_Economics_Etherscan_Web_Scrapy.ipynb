{
 "cells": [
  {
   "cell_type": "markdown",
   "id": "af19550f",
   "metadata": {},
   "source": [
    "## STEP 1：套件匯入"
   ]
  },
  {
   "cell_type": "code",
   "execution_count": null,
   "id": "afe226df",
   "metadata": {},
   "outputs": [],
   "source": [
    "import requests # API 請求\n",
    "import pandas as pd # Excel 輸出\n",
    "from lxml import etree # HTML 定位路徑語言\n",
    "from time import sleep # 爬蟲休息\n",
    "from datetime import date # 檔案匯出名稱格式"
   ]
  },
  {
   "cell_type": "markdown",
   "id": "3f285269",
   "metadata": {},
   "source": [
    "## STEP 2：爬取 Etherscan Transaction Data"
   ]
  },
  {
   "cell_type": "code",
   "execution_count": null,
   "id": "5c1ece4a",
   "metadata": {},
   "outputs": [],
   "source": [
    "STOP = False \n",
    "# While 暫停條件，用於爬取頁面完畢，暫停爬蟲使用\n",
    "\n",
    "PAGE_NUM = 1 \n",
    "# 爬取內容之起始頁面\n",
    "\n",
    "ADDRESS = \"0x99dc81489b75268baad66e2eb2301371d1ce235a\" \n",
    "# 合約地址 / 錢包地址\n",
    "\n",
    "base_link = \"https://etherscan.io/txs?a={}&p={}\"\n",
    "# 請求 API \n",
    "\n",
    "headers = {\"user-agent\" : \"Mozilla/5.0 (Windows NT 10.0; Win64; x64) AppleWebKit/537.36 (KHTML, like Gecko) Chrome/99.0.4844.51 Safari/537.36\"}\n",
    "# API 請求攜帶 Headers 內容\n",
    "\n",
    "data_to_df = []\n",
    "# 用於爬取內容儲存空間\n",
    "\n",
    "# 本次實作範例地址\n",
    "## 錢包地址 0x99dc81489b75268baad66e2eb2301371d1ce235a\n",
    "## 合約地址 0xb47e3cd837ddf8e4c57f05d70ab865de6e193bbb"
   ]
  },
  {
   "cell_type": "markdown",
   "id": "6321e2e9",
   "metadata": {},
   "source": [
    "#### 爬取 單一用戶 or 智能合約 所有交易記錄"
   ]
  },
  {
   "cell_type": "code",
   "execution_count": null,
   "id": "b3eaa8d0",
   "metadata": {
    "scrolled": false
   },
   "outputs": [],
   "source": [
    "# 由於不清楚爬取地址總頁數，因此採用 while 迴圈進行爬蟲\n",
    "while(not STOP): # 當爬取頁面已達到需求，則出發 Boolean 轉換暫停迴圈\n",
    "    res = requests.get(base_link.format(ADDRESS,PAGE_NUM),headers=headers)\n",
    "    # 透過 Get 攜帶 Headers 內容進行請求，可透過切換 PAGE_NUM 爬取其他頁面\n",
    "    raw_data = etree.HTML(res.text)\n",
    "    # 初始化路徑語言套件\n",
    "    rows_loc = \"//table/tbody/tr\"\n",
    "    # 所需爬取資料之路徑\n",
    "    total_rows = len(raw_data.xpath(rows_loc))+1\n",
    "    # 本次爬蟲總頁數\n",
    "    total_page = raw_data.xpath(\"(//span[@class='page-link text-nowrap'])[1]/strong[2]\")[0].text\n",
    "    # 顯示目前的下載進度\n",
    "    print(f\"【Etherscan Crawling】Downloading... {PAGE_NUM}/{total_page}\")\n",
    "    # 藉由判斷總行數進行迴圈，爬取所需內容\n",
    "    for num in range(1,total_rows):\n",
    "        try:\n",
    "            temp = {\n",
    "                'txn' : raw_data.xpath(rows_loc + f\"[{num}]/td[2]//a\")[0].text,\n",
    "                'method' : raw_data.xpath(rows_loc + f\"[{num}]/td[3]/span\")[0].text,\n",
    "                'block' : raw_data.xpath(rows_loc + f\"[{num}]/td[4]/a\")[0].text,\n",
    "                'age' : raw_data.xpath(rows_loc + f\"[{num}]/td[6]/span\")[0].attrib['title'],\n",
    "                'value' : raw_data.xpath(rows_loc + f\"[{num}]/td[10]\")[0].text,\n",
    "                'fee' : raw_data.xpath(rows_loc + f\"[{num}]/td[11]/span\")[0].text\n",
    "            }\n",
    "            \n",
    "            try:\n",
    "                temp_from = raw_data.xpath(rows_loc + f\"[{num}]/td[7]/a\")[0].text\n",
    "            except IndexError:\n",
    "                temp_from = raw_data.xpath(rows_loc + f\"[{num}]/td[7]/span\")[0].text\n",
    "            except Exception as err:\n",
    "                print(f\"--->【Row：{num}】temp_from is {err}.\")\n",
    "            finally:\n",
    "                temp['from'] = temp_from\n",
    "\n",
    "            \n",
    "            \n",
    "            try:\n",
    "                if raw_data.xpath(rows_loc + f\"[{num}]/td[9]/span/span\"):\n",
    "                    temp_to = raw_data.xpath(rows_loc + f\"[{num}]/td[9]/span/span\")[-1].attrib['title']\n",
    "                elif raw_data.xpath(rows_loc + f\"[{num}]/td[9]/span/span/a/text()\"):\n",
    "                    temp_to = raw_data.xpath(rows_loc + f\"[{num}]/td[9]/span/span/text()\")[-1]\n",
    "                elif raw_data.xpath(rows_loc + f\"[{num}]/td[9]/span/a/text()\"):\n",
    "                    temp_to = raw_data.xpath(rows_loc + f\"[{num}]/td[9]/span/a/text()\")[-1]\n",
    "                elif raw_data.xpath(rows_loc + f\"[{num}]/td[9]/a/text()\"):\n",
    "                    temp_to = raw_data.xpath(rows_loc + f\"[{num}]/td[9]/a/text()\")[-1]\n",
    "            except Exception as err:\n",
    "                print(f\"--->【Row：{num}】temp_to is {err}.\")\n",
    "            finally:\n",
    "                temp['to'] = temp_to\n",
    "                           \n",
    "        except Exception as err:\n",
    "            print(f\"---->【Row：{num}】{err}\")\n",
    "        \n",
    "        data_to_df.append(temp)\n",
    "    # 若當前頁數大於或等於本次爬蟲總頁數時，開啟迴圈終止條件\n",
    "    if PAGE_NUM >= int(total_page):\n",
    "        STOP = True\n",
    "    # 每次迴圈處理完後，頁數 +1\n",
    "    PAGE_NUM+=1\n",
    "    # 休息 1 秒，以免被 Etherscan 判斷為程式爬蟲\n",
    "    sleep(1)\n",
    "        \n",
    "# ethblower.eth \n",
    "# https://opensea.io/assets/0x57f1887a8bf19b14fc0df6fd9b2acc9af147ea85/105638605602537123420675670083706176451217545169624515749079534262618711227914"
   ]
  },
  {
   "cell_type": "markdown",
   "id": "871cbb03",
   "metadata": {},
   "source": [
    "## STEP 3：匯出檔案"
   ]
  },
  {
   "cell_type": "code",
   "execution_count": null,
   "id": "02ba9cc0",
   "metadata": {},
   "outputs": [],
   "source": [
    "today = date.today()\n",
    "current_date = today.strftime(\"%Y_%m_%d\")\n",
    "\n",
    "columns = ['txn','method','block','age','value','fee','from','to']\n",
    "df = pd.DataFrame(data_to_df,columns=columns)\n",
    "\n",
    "file_name = f\"{current_date}_Etherscan_Data_{ADDRESS[-5:]}.csv\"\n",
    "df.to_csv(file_name,encoding='utf-8')\n",
    "\n",
    "print(f'Export file name: {file_name}, Data {df.shape}')"
   ]
  },
  {
   "cell_type": "code",
   "execution_count": null,
   "id": "b5d82695",
   "metadata": {},
   "outputs": [],
   "source": []
  }
 ],
 "metadata": {
  "kernelspec": {
   "display_name": "Python 3",
   "language": "python",
   "name": "python3"
  },
  "language_info": {
   "codemirror_mode": {
    "name": "ipython",
    "version": 3
   },
   "file_extension": ".py",
   "mimetype": "text/x-python",
   "name": "python",
   "nbconvert_exporter": "python",
   "pygments_lexer": "ipython3",
   "version": "3.8.8"
  }
 },
 "nbformat": 4,
 "nbformat_minor": 5
}
