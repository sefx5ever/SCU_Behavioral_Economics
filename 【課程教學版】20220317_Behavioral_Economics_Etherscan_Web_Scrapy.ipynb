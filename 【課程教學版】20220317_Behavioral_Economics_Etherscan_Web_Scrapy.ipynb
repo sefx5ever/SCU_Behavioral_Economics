{
 "cells": [
  {
   "cell_type": "code",
   "execution_count": null,
   "id": "11ac2ad4",
   "metadata": {},
   "outputs": [],
   "source": [
    "import requests\n",
    "from lxml import etree\n",
    "from time import sleep\n",
    "import pandas as pd"
   ]
  },
  {
   "cell_type": "code",
   "execution_count": null,
   "id": "78168cd8",
   "metadata": {},
   "outputs": [],
   "source": [
    "STOP = False\n",
    "PAGE_NUM = 1\n",
    "ADDRESS = '0x99dc81489b75268baad66e2eb2301371d1ce235a'\n",
    "headers = {\n",
    "    'user-agent' : 'Mozilla/5.0 (Windows NT 10.0; Win64; x64) AppleWebKit/537.36 (KHTML, like Gecko) Chrome/99.0.4844.51 Safari/537.36'\n",
    "}\n",
    "data_to_df = []\n",
    "\n",
    "while(not STOP):\n",
    "    res = requests.get(f'https://etherscan.io/txs?a={ADDRESS}&p={PAGE_NUM}',headers=headers)\n",
    "    raw_data = etree.HTML(res.text)\n",
    "    total_page = int(raw_data.xpath(\"//div[@id='ContentPlaceHolder1_topPageDiv']//strong[@class='font-weight-medium'][2]/text()\")[-1])\n",
    "    total_rows = len(raw_data.xpath(\"//tbody/tr\"))+1\n",
    "    \n",
    "    print(f\"Current page {PAGE_NUM}/{total_page}\")\n",
    "    \n",
    "    for row_num in range(1,total_rows):\n",
    "        temp = {\n",
    "            'txn' : raw_data.xpath(f\"//tbody/tr[{row_num}]/td[2]/span/a/text()\")[-1],\n",
    "            'method' : raw_data.xpath(f\"//tbody/tr[{row_num}]/td[3]/span/text()\")[-1],\n",
    "            'block' : raw_data.xpath(f\"//tbody/tr[{row_num}]/td[4]/a/text()\")[-1],\n",
    "            'age' : raw_data.xpath(f\"//tbody/tr[{row_num}]/td[6]/span/text()\")[-1],\n",
    "            'value' : raw_data.xpath(f\"//tbody/tr[{row_num}]/td[10]/text()\")[-1],\n",
    "            'txn_fee' : '.'.join(raw_data.xpath(f\"//tbody/tr[{row_num}]/td[11]/span/text()\"))\n",
    "        }\n",
    "        \n",
    "        #########################\n",
    "        ## FROM ##\n",
    "        if raw_data.xpath(f\"//tbody/tr[{row_num}]/td[7]/span/a\"):\n",
    "            temp['from'] = raw_data.xpath(f\"//tbody/tr[{row_num}]/td[7]/span/a/text()\")[-1]\n",
    "        elif raw_data.xpath(f\"//tbody/tr[{row_num}]/td[7]/a\"):\n",
    "            temp['from'] = raw_data.xpath(f\"//tbody/tr[{row_num}]/td[7]/a/text()\")[-1]\n",
    "        elif raw_data.xpath(f\"//tbody/tr[{row_num}]/td[7]/span\"):\n",
    "            temp['from'] = raw_data.xpath(f\"//tbody/tr[{row_num}]/td[7]/span/text()\")[-1]\n",
    "        else:\n",
    "            temp['from'] = None\n",
    "\n",
    "        ## TO ##\n",
    "        if raw_data.xpath(f\"//tbody/tr[{row_num}]/td[9]/span/span\"):\n",
    "            temp['to'] = raw_data.xpath(f\"//tbody/tr[{row_num}]/td[9]/span/span\")[-1].attrib['title']\n",
    "        elif raw_data.xpath(f\"//tbody/tr[{row_num}]/td[9]/span/span/a/text()\"):\n",
    "            temp['to'] = raw_data.xpath(f\"//tbody/tr[{row_num}]/td[9]/span/span/text()\")[-1]\n",
    "        elif raw_data.xpath(f\"//tbody/tr[{row_num}]/td[9]/span/a/text()\"):\n",
    "            temp['to'] = raw_data.xpath(f\"//tbody/tr[{row_num}]/td[9]/span/a/text()\")[-1]\n",
    "        elif raw_data.xpath(f\"//tbody/tr[{row_num}]/td[9]/a/text()\"):\n",
    "            temp['to'] = raw_data.xpath(f\"//tbody/tr[{row_num}]/td[9]/a/text()\")[-1]\n",
    "        else:\n",
    "            temp['to'] = None\n",
    "        #########################\n",
    "        \n",
    "        data_to_df.append(temp)\n",
    "    \n",
    "    if PAGE_NUM >= total_page:\n",
    "        STOP = True\n",
    "\n",
    "    PAGE_NUM+=1\n",
    "    sleep(1)"
   ]
  },
  {
   "cell_type": "code",
   "execution_count": null,
   "id": "543cecd2",
   "metadata": {},
   "outputs": [],
   "source": [
    "data_to_df"
   ]
  },
  {
   "cell_type": "code",
   "execution_count": null,
   "id": "fc6a0ab0",
   "metadata": {},
   "outputs": [],
   "source": [
    "columns = ['txn','method','block','age','value','txn_fee','from','to']\n",
    "df = pd.DataFrame(data_to_df,columns=columns)\n",
    "df.head()"
   ]
  },
  {
   "cell_type": "code",
   "execution_count": null,
   "id": "e2f2f52f",
   "metadata": {},
   "outputs": [],
   "source": [
    "df.to_csv(\"this_is_web_scrapy.csv\",encoding='utf-8')"
   ]
  }
 ],
 "metadata": {
  "kernelspec": {
   "display_name": "Python 3",
   "language": "python",
   "name": "python3"
  },
  "language_info": {
   "codemirror_mode": {
    "name": "ipython",
    "version": 3
   },
   "file_extension": ".py",
   "mimetype": "text/x-python",
   "name": "python",
   "nbconvert_exporter": "python",
   "pygments_lexer": "ipython3",
   "version": "3.8.8"
  }
 },
 "nbformat": 4,
 "nbformat_minor": 5
}
